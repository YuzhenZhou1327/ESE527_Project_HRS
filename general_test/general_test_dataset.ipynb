{
 "cells": [
  {
   "cell_type": "code",
   "execution_count": 1,
   "metadata": {},
   "outputs": [],
   "source": [
    "import pandas as pd\n",
    "from sklearn.ensemble import RandomForestRegressor\n",
    "from sklearn.metrics import mean_squared_error, r2_score, mean_absolute_percentage_error\n",
    "import numpy as np"
   ]
  },
  {
   "cell_type": "code",
   "execution_count": 2,
   "metadata": {},
   "outputs": [],
   "source": [
    "# Load the data\n",
    "dataset1_df = pd.read_csv('DataSet1.csv')\n",
    "best_parameters_df = pd.read_csv('Best_Parameters_DataSet1.csv')\n",
    "test_data_df = pd.read_csv('test_dataset1_log.csv').drop(columns=['group'])\n",
    "\n",
    "# Initialize a DataFrame to store results\n",
    "results = []"
   ]
  },
  {
   "cell_type": "code",
   "execution_count": 3,
   "metadata": {},
   "outputs": [],
   "source": [
    "# Process each group\n",
    "for group, params in best_parameters_df.iterrows():\n",
    "    # Filter the data for the current group\n",
    "    train_data = dataset1_df[dataset1_df['group'] == params['Group']]\n",
    "    X_train = train_data.drop(columns=['SHLT', 'MSTOT', 'COGTOT', 'group'])\n",
    "    y_train = train_data[['SHLT', 'MSTOT', 'COGTOT']]\n",
    "\n",
    "    # Setup the model with the best parameters\n",
    "    model = RandomForestRegressor(\n",
    "        n_estimators=int(params['n_estimators']),\n",
    "        max_depth=None if np.isnan(params['max_depth']) else int(params['max_depth']),\n",
    "        min_samples_leaf=int(params['min_samples_leaf']),\n",
    "        min_samples_split=int(params['min_samples_split']),\n",
    "        random_state=42\n",
    "    )\n",
    "\n",
    "    # Train the model\n",
    "    model.fit(X_train, y_train)\n",
    "\n",
    "    # Predict on test data\n",
    "    predictions = model.predict(test_data_df.drop(columns=['SHLT', 'MSTOT', 'COGTOT']))\n",
    "\n",
    "    # Calculate metrics\n",
    "    y_true = test_data_df[['SHLT', 'MSTOT', 'COGTOT']]\n",
    "    r2 = r2_score(y_true, predictions, multioutput='variance_weighted')\n",
    "    rmse = mean_squared_error(y_true, predictions, squared=False)\n",
    "    mape = mean_absolute_percentage_error(y_true, predictions)\n",
    "\n",
    "    # Append results\n",
    "    results.append({\n",
    "        'Group': params['Group'],\n",
    "        'R2': r2,\n",
    "        'RMSE': rmse,\n",
    "        'MAPE': mape\n",
    "    })\n",
    "\n",
    "# Convert results to DataFrame and save to CSV\n",
    "results_df = pd.DataFrame(results)\n",
    "results_df.to_csv('test_dataset1_results.csv', index=False)\n"
   ]
  }
 ],
 "metadata": {
  "kernelspec": {
   "display_name": "base",
   "language": "python",
   "name": "python3"
  },
  "language_info": {
   "codemirror_mode": {
    "name": "ipython",
    "version": 3
   },
   "file_extension": ".py",
   "mimetype": "text/x-python",
   "name": "python",
   "nbconvert_exporter": "python",
   "pygments_lexer": "ipython3",
   "version": "3.11.5"
  }
 },
 "nbformat": 4,
 "nbformat_minor": 2
}

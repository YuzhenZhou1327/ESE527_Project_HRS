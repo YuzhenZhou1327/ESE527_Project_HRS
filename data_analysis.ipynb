{
 "cells": [
  {
   "cell_type": "code",
   "execution_count": 2,
   "metadata": {},
   "outputs": [],
   "source": [
    "import pandas as pd\n",
    "from sklearn.model_selection import train_test_split\n",
    "from sklearn.linear_model import LinearRegression\n",
    "from sklearn.metrics import mean_squared_error,r2_score"
   ]
  },
  {
   "cell_type": "code",
   "execution_count": 4,
   "metadata": {},
   "outputs": [
    {
     "name": "stdout",
     "output_type": "stream",
     "text": [
      "Model for SHLT: R2 Score = 0.07269567931402676, MSE = 0.8235832524614141\n",
      "Model for COGTOT: R2 Score = 0.014526481272673863, MSE = 16.481349575843293\n",
      "Model for MSTOT: R2 Score = 0.033042875376226855, MSE = 2.931265391537392\n"
     ]
    }
   ],
   "source": [
    "df = pd.read_csv('cleaned_extracted_data.csv')\n",
    "#Separate the input features and target values\n",
    "X = df.drop(['SHLT', 'COGTOT', 'MSTOT'], axis=1)  # Input features\n",
    "y = df[['SHLT', 'COGTOT', 'MSTOT']]  # Target variables\n",
    "# Split the data into training and testing sets\n",
    "X_train, X_test, y_train, y_test = train_test_split(X, y, test_size=0.2, random_state=42)\n",
    "\n",
    "# Initialize a dictionary to store the models and their metrics\n",
    "models_metrics = {}\n",
    "\n",
    "# Train separate models for each target variable\n",
    "for target in y.columns:\n",
    "    # Train the model\n",
    "    model = LinearRegression()\n",
    "    model.fit(X_train, y_train[target])\n",
    "    \n",
    "    # Predict on the testing set\n",
    "    y_pred = model.predict(X_test)\n",
    "    \n",
    "    # Evaluate the model\n",
    "    r2 = r2_score(y_test[target], y_pred)\n",
    "    mse = mean_squared_error(y_test[target], y_pred)\n",
    "    \n",
    "    # Store the model and its metrics\n",
    "    models_metrics[target] = {'R2 Score': r2, 'MSE': mse}\n",
    "\n",
    "# Display the models' metrics\n",
    "for target, metrics in models_metrics.items():\n",
    "    print(f\"Model for {target}: R2 Score = {metrics['R2 Score']}, MSE = {metrics['MSE']}\")\n"
   ]
  }
 ],
 "metadata": {
  "kernelspec": {
   "display_name": "base",
   "language": "python",
   "name": "python3"
  },
  "language_info": {
   "codemirror_mode": {
    "name": "ipython",
    "version": 3
   },
   "file_extension": ".py",
   "mimetype": "text/x-python",
   "name": "python",
   "nbconvert_exporter": "python",
   "pygments_lexer": "ipython3",
   "version": "3.11.4"
  },
  "orig_nbformat": 4
 },
 "nbformat": 4,
 "nbformat_minor": 2
}

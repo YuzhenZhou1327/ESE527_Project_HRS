{
 "cells": [
  {
   "cell_type": "code",
   "execution_count": 7,
   "metadata": {},
   "outputs": [],
   "source": [
    "import pandas as pd\n",
    "from sklearn.ensemble import AdaBoostRegressor\n",
    "from sklearn.metrics import mean_squared_error, r2_score\n",
    "from sklearn.model_selection import train_test_split\n",
    "from sklearn.model_selection import cross_validate, KFold"
   ]
  },
  {
   "cell_type": "code",
   "execution_count": 15,
   "metadata": {},
   "outputs": [],
   "source": [
    "def train_and_evaluate_cv(data, target_features):\n",
    "    all_results = []\n",
    "    kfold = KFold(n_splits=10, shuffle=True, random_state=42)\n",
    "\n",
    "    for target_feature in target_features:\n",
    "        groups = data['group'].unique()\n",
    "\n",
    "        for group in groups:\n",
    "            group_data = data[data['group'] == group]\n",
    "            if len(group_data) > 1:  # Ensure there is enough data\n",
    "                X = group_data.drop(target_features + ['group'], axis=1)\n",
    "                y = group_data[target_feature]\n",
    "\n",
    "                # Ensuring y is a one-dimensional array\n",
    "                if y.ndim > 1 and y.shape[1] == 1:\n",
    "                    y = y.ravel()\n",
    "\n",
    "                # Creating the AdaBoost regressor\n",
    "                model = AdaBoostRegressor(n_estimators=50, random_state=42)\n",
    "\n",
    "                # Perform 10-fold cross-validation and return train and test scores\n",
    "                scores = cross_validate(model, X, y, cv=kfold,\n",
    "                                        scoring=('r2', 'neg_mean_squared_error'),\n",
    "                                        return_train_score=True)\n",
    "\n",
    "                # Append results for each group\n",
    "                all_results.append({\n",
    "                    'Target Feature': target_feature,\n",
    "                    'Group': group,\n",
    "                    'Train MSE': -scores['train_neg_mean_squared_error'].mean(),\n",
    "                    'Test MSE': -scores['test_neg_mean_squared_error'].mean(),\n",
    "                    'Train R2': scores['train_r2'].mean(),\n",
    "                    'Test R2': scores['test_r2'].mean(),\n",
    "                })\n",
    "\n",
    "    # Convert the results into a DataFrame\n",
    "    return pd.DataFrame(all_results)"
   ]
  },
  {
   "cell_type": "code",
   "execution_count": 16,
   "metadata": {},
   "outputs": [],
   "source": [
    "data = pd.read_csv('ThreeForthSemester.csv')\n",
    "\n",
    "# List of target features to analyze\n",
    "target_features = ['MSTOT', 'COGTOT', 'SHLT']\n",
    "\n",
    "# Execute the function with the list of target features\n",
    "results_df = train_and_evaluate_cv(data, target_features)\n",
    "\n",
    "# Saving the results to a CSV file\n",
    "results_df.to_csv('model_cv_results_separate.csv', index=False)"
   ]
  }
 ],
 "metadata": {
  "kernelspec": {
   "display_name": "base",
   "language": "python",
   "name": "python3"
  },
  "language_info": {
   "codemirror_mode": {
    "name": "ipython",
    "version": 3
   },
   "file_extension": ".py",
   "mimetype": "text/x-python",
   "name": "python",
   "nbconvert_exporter": "python",
   "pygments_lexer": "ipython3",
   "version": "3.11.5"
  }
 },
 "nbformat": 4,
 "nbformat_minor": 2
}

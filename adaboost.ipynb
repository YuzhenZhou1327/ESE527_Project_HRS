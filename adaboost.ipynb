{
 "cells": [
  {
   "cell_type": "code",
   "execution_count": 1,
   "metadata": {},
   "outputs": [],
   "source": [
    "import pandas as pd\n",
    "from sklearn.ensemble import AdaBoostRegressor\n",
    "from sklearn.metrics import mean_squared_error, r2_score\n",
    "from sklearn.model_selection import train_test_split\n",
    "from sklearn.model_selection import cross_validate, KFold"
   ]
  },
  {
   "cell_type": "code",
   "execution_count": 4,
   "metadata": {},
   "outputs": [],
   "source": [
    "def train_and_evaluate(data, target_features):\n",
    "    all_results = []\n",
    "\n",
    "    for target_feature in target_features:\n",
    "        groups = data['group'].unique()\n",
    "\n",
    "        for group in groups:\n",
    "            group_data = data[data['group'] == group]\n",
    "            if len(group_data) > 1:  # Ensure there is enough data to split\n",
    "                X = group_data.drop(target_features + ['group'], axis=1)\n",
    "                y = group_data[target_feature]\n",
    "\n",
    "                # Ensuring y is a one-dimensional array\n",
    "                if y.ndim > 1 and y.shape[1] == 1:\n",
    "                    y = y.ravel()\n",
    "\n",
    "                # Splitting the data into train and test sets\n",
    "                X_train, X_test, y_train, y_test = train_test_split(X, y, test_size=0.3, random_state=42)\n",
    "\n",
    "                # Creating and training the AdaBoost regressor\n",
    "                model = AdaBoostRegressor(n_estimators=50, random_state=42)\n",
    "                model.fit(X_train, y_train)\n",
    "\n",
    "                # Predicting the test set\n",
    "                y_pred = model.predict(X_test)\n",
    "\n",
    "                # Calculating metrics\n",
    "                mse = mean_squared_error(y_test, y_pred)\n",
    "                r2 = r2_score(y_test, y_pred)\n",
    "\n",
    "                all_results.append({\n",
    "                    'Target Feature': target_feature,\n",
    "                    'Group': group,\n",
    "                    'MSE': mse,\n",
    "                    'R2': r2,\n",
    "                    'Samples in group': len(group_data)\n",
    "                })\n",
    "\n",
    "    # Convert the results into a DataFrame\n",
    "    return pd.DataFrame(all_results)"
   ]
  },
  {
   "cell_type": "code",
   "execution_count": 6,
   "metadata": {},
   "outputs": [],
   "source": [
    "data = pd.read_csv('ThreeForthSemester.csv')\n",
    "\n",
    "# List of target features to analyze\n",
    "target_features = ['MSTOT', 'COGTOT', 'SHLT']\n",
    "\n",
    "# Execute the function with the list of target features\n",
    "results_df = train_and_evaluate(data, target_features)\n",
    "\n",
    "# Saving the results to a CSV file\n",
    "results_df.to_csv('adaboost_model_results.csv', index=False)"
   ]
  }
 ],
 "metadata": {
  "kernelspec": {
   "display_name": "base",
   "language": "python",
   "name": "python3"
  },
  "language_info": {
   "codemirror_mode": {
    "name": "ipython",
    "version": 3
   },
   "file_extension": ".py",
   "mimetype": "text/x-python",
   "name": "python",
   "nbconvert_exporter": "python",
   "pygments_lexer": "ipython3",
   "version": "3.11.5"
  }
 },
 "nbformat": 4,
 "nbformat_minor": 2
}

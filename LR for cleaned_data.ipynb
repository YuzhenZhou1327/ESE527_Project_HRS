{
 "cells": [
  {
   "cell_type": "code",
   "execution_count": 1,
   "metadata": {},
   "outputs": [],
   "source": []
  },
  {
   "cell_type": "code",
   "execution_count": 17,
   "metadata": {},
   "outputs": [],
   "source": [
    "\n"
   ]
  },
  {
   "cell_type": "code",
   "execution_count": 18,
   "metadata": {},
   "outputs": [
    {
     "name": "stdout",
     "output_type": "stream",
     "text": [
      "Mean Squared Error: 0.8970882947394252\n",
      "Coefficients: [ 2.87556590e-02 -1.93260535e-02 -3.56270197e-02  1.04963973e-01\n",
      "  3.54904632e-13  2.99799461e-02 -2.01792445e-03 -1.22527306e-02\n",
      "  3.01637960e-03  3.01637960e-03 -2.31143153e-07 -1.72560145e-07\n",
      " -2.23905288e-06 -3.04401820e-07  1.85683662e-02  2.25620932e-02\n",
      " -1.96226546e-02  0.00000000e+00  7.90078209e-02 -2.45350650e-02]\n"
     ]
    }
   ],
   "source": []
  }
 ],
 "metadata": {
  "kernelspec": {
   "display_name": "base",
   "language": "python",
   "name": "python3"
  },
  "language_info": {
   "codemirror_mode": {
    "name": "ipython",
    "version": 3
   },
   "file_extension": ".py",
   "mimetype": "text/x-python",
   "name": "python",
   "nbconvert_exporter": "python",
   "pygments_lexer": "ipython3",
   "version": "3.11.4"
  },
  "orig_nbformat": 4
 },
 "nbformat": 4,
 "nbformat_minor": 2
}

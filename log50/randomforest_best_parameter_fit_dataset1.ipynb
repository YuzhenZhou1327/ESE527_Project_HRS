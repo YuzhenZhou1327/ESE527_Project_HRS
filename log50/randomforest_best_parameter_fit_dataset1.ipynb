{
 "cells": [
  {
   "cell_type": "code",
   "execution_count": 39,
   "metadata": {},
   "outputs": [],
   "source": [
    "import pandas as pd\n",
    "from sklearn.ensemble import RandomForestRegressor\n",
    "from sklearn.metrics import mean_squared_error, r2_score, mean_absolute_percentage_error\n",
    "from sklearn.model_selection import train_test_split\n",
    "import numpy as np"
   ]
  },
  {
   "cell_type": "code",
   "execution_count": 40,
   "metadata": {},
   "outputs": [],
   "source": [
    "# Load the datasets\n",
    "data = pd.read_csv('DataSet1.csv')\n",
    "best_params = pd.read_csv('Best_Parameters_DataSet1.csv')\n",
    "\n",
    "\n",
    "target_columns = ['SHLT', 'MSTOT', 'COGTOT']\n",
    "group_column = 'group'\n",
    "\n",
    "# Split data into train and test sets\n",
    "train_data, test_data = train_test_split(data, test_size=0.1, random_state=42)\n",
    "\n",
    "# Function to calculate RMSE\n",
    "def rmse(y_true, y_pred):\n",
    "    return np.sqrt(mean_squared_error(y_true, y_pred))\n",
    "\n",
    "# Prepare the DataFrame to store results\n",
    "results = []\n"
   ]
  },
  {
   "cell_type": "code",
   "execution_count": 41,
   "metadata": {},
   "outputs": [],
   "source": [
    "# Process each group\n",
    "for group, group_data in train_data.groupby(group_column):\n",
    "    # Separate the group's data in test set\n",
    "    test_group_data = test_data[test_data[group_column] == group]\n",
    "    \n",
    "    if test_group_data.empty:\n",
    "        continue\n",
    "\n",
    "    # Features and targets split\n",
    "    X_train, y_train = group_data.drop(target_columns + [group_column], axis=1), group_data[target_columns]\n",
    "    X_test, y_test = test_group_data.drop(target_columns + [group_column], axis=1), test_group_data[target_columns]\n",
    "\n",
    "    # Initialize and fit the RandomForestRegressor\n",
    "    model = RandomForestRegressor(n_estimators=100, random_state=42)\n",
    "    model.fit(X_train, y_train)\n",
    "\n",
    "    # Predictions\n",
    "    train_pred = model.predict(X_train)\n",
    "    test_pred = model.predict(X_test)\n",
    "\n",
    "    # Calculate metrics\n",
    "    train_rmse = rmse(y_train, train_pred)\n",
    "    test_rmse = rmse(y_test, test_pred)\n",
    "    train_r2 = r2_score(y_train, train_pred)\n",
    "    test_r2 = r2_score(y_test, test_pred)\n",
    "    train_mape = mean_absolute_percentage_error(y_train, train_pred)\n",
    "    test_mape = mean_absolute_percentage_error(y_test, test_pred)\n",
    "\n",
    "    # Store results\n",
    "    results.append({\n",
    "        'Group': group,\n",
    "        'Train RMSE': train_rmse,\n",
    "        'Test RMSE': test_rmse,\n",
    "        'Train R²': train_r2,\n",
    "        'Test R²': test_r2,\n",
    "        'Train RMAPE': train_mape,\n",
    "        'Test RMAPE': test_mape\n",
    "    })\n",
    "\n",
    "# Create a DataFrame from the results\n",
    "results_df = pd.DataFrame(results)\n",
    "\n",
    "# Output the results to a CSV file\n",
    "results_df.to_csv('model_performance_results.csv', index=False)\n"
   ]
  }
 ],
 "metadata": {
  "kernelspec": {
   "display_name": "base",
   "language": "python",
   "name": "python3"
  },
  "language_info": {
   "codemirror_mode": {
    "name": "ipython",
    "version": 3
   },
   "file_extension": ".py",
   "mimetype": "text/x-python",
   "name": "python",
   "nbconvert_exporter": "python",
   "pygments_lexer": "ipython3",
   "version": "3.11.5"
  }
 },
 "nbformat": 4,
 "nbformat_minor": 2
}

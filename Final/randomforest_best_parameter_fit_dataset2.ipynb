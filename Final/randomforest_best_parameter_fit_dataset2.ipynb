{
 "cells": [
  {
   "cell_type": "code",
   "execution_count": 7,
   "metadata": {},
   "outputs": [],
   "source": [
    "import pandas as pd\n",
    "import numpy as np\n",
    "import matplotlib.pyplot as plt\n",
    "from sklearn.ensemble import RandomForestRegressor\n",
    "from sklearn.model_selection import train_test_split"
   ]
  },
  {
   "cell_type": "code",
   "execution_count": 8,
   "metadata": {},
   "outputs": [],
   "source": [
    "# Load the datasets\n",
    "data = pd.read_csv('DataSet2.csv')\n",
    "best_params = pd.read_csv('Best_Parameters_DataSet2.csv')\n",
    "\n",
    "# Define the target features\n",
    "targets = ['SHLT', 'MSTOT', 'COGTOT']\n",
    "\n",
    "# Prepare the input features (exclude 'group' and the target features)\n",
    "features = data.columns.difference(['group', *targets])\n",
    "feature_importances = []"
   ]
  },
  {
   "cell_type": "code",
   "execution_count": 9,
   "metadata": {},
   "outputs": [],
   "source": [
    "# Loop over each group and train a multioutput model\n",
    "for _, group_row in best_params.iterrows():\n",
    "    group_code = group_row['Group']\n",
    "    group_data = data[data['group'] == group_code]\n",
    "\n",
    "    if group_data.empty:\n",
    "        continue\n",
    "\n",
    "    # Split the group data into training and testing sets\n",
    "    X_train, X_test, y_train, y_test = train_test_split(group_data[features], group_data[targets], test_size=0.2, random_state=42)\n",
    "    \n",
    "    # Initialize the RandomForestRegressor with parameters from the best_params dataframe\n",
    "    model = RandomForestRegressor(\n",
    "        n_estimators=int(group_row['n_estimators']),\n",
    "        max_depth=None if pd.isna(group_row['max_depth']) else int(group_row['max_depth']),\n",
    "        min_samples_leaf=int(group_row['min_samples_leaf']),\n",
    "        min_samples_split=int(group_row['min_samples_split']),\n",
    "        random_state=42\n",
    "    )\n",
    "\n",
    "    # Train the model on all target features at once\n",
    "    model.fit(X_train, y_train)\n",
    "\n",
    "    # Store feature importances\n",
    "    importances = model.feature_importances_\n",
    "    feature_importances.append({\n",
    "        'group': group_code,\n",
    "        'targets': ', '.join(targets),\n",
    "        **dict(zip(features, importances))\n",
    "    })\n",
    "\n",
    "    # Plot feature importances and save to file\n",
    "    plt.figure(figsize=(10, 6))\n",
    "    indices = np.argsort(importances)\n",
    "    plt.title(f'Feature Importances for Group {group_code}, Targets: {\", \".join(targets)}')\n",
    "    plt.barh(range(len(indices)), importances[indices], color='b', align='center')\n",
    "    plt.yticks(range(len(indices)), [features[i] for i in indices])\n",
    "    plt.xlabel('Relative Importance')\n",
    "    \n",
    "    # Save plot to file\n",
    "    plt.savefig(f'feature_importances_Dataset2/feature_importances_{group_code}_all_targets.png')\n",
    "    plt.close()\n",
    "\n",
    "# Convert feature importances to DataFrame and save to CSV\n",
    "importances_df = pd.DataFrame(feature_importances)\n",
    "importances_df.to_csv('output_feature_importances_all_targets_Dataset2.csv', index=False)"
   ]
  }
 ],
 "metadata": {
  "kernelspec": {
   "display_name": "base",
   "language": "python",
   "name": "python3"
  },
  "language_info": {
   "codemirror_mode": {
    "name": "ipython",
    "version": 3
   },
   "file_extension": ".py",
   "mimetype": "text/x-python",
   "name": "python",
   "nbconvert_exporter": "python",
   "pygments_lexer": "ipython3",
   "version": "3.11.5"
  }
 },
 "nbformat": 4,
 "nbformat_minor": 2
}

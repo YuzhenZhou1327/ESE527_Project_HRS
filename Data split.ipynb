{
 "cells": [
  {
   "cell_type": "code",
   "execution_count": 1,
   "id": "67ca629d-91ad-4b68-b5cd-b4ed9e7045fe",
   "metadata": {
    "tags": []
   },
   "outputs": [],
   "source": [
    "import pyreadstat\n",
    "import pandas as pd"
   ]
  },
  {
   "cell_type": "code",
   "execution_count": 15,
   "id": "230d52c7-3f7a-421f-ae22-93df5faae6fe",
   "metadata": {
    "tags": []
   },
   "outputs": [],
   "source": [
    "df, meta = pyreadstat.read_sav('randhrs1992_2020v1.sav')"
   ]
  },
  {
   "cell_type": "code",
   "execution_count": 49,
   "id": "1ddad10b-dc60-49a8-9d81-da0b84ab111d",
   "metadata": {},
   "outputs": [],
   "source": [
    "for wave in range(4,16):\n",
    "    wave_variables = []\n",
    "    for i in variables:\n",
    "        if i.find(str(wave)) == 1:\n",
    "            wave_variables.append(i)\n",
    "    b_check = \"S\"+str(wave)+\"BYEAR\"\n",
    "    d_check = \"S\"+str(wave)+\"DYEAR\"\n",
    "    b_file_name = \"Wave\"+str(wave)+\"_Alive.csv\"\n",
    "    d_file_name = \"Wave\"+str(wave)+\"_Dead.csv\"\n",
    "    df[wave_variables][(df[b_check] > 0) & (df[d_check] > 0)].to_csv(b_file_name)\n",
    "    df[wave_variables][(df[b_check] > 0) & ((df[d_check] > 0) != True)].to_csv(file_name)"
   ]
  },
  {
   "cell_type": "code",
   "execution_count": null,
   "id": "bf18ff43-bbc2-4714-9799-64fad4f9f989",
   "metadata": {},
   "outputs": [],
   "source": [
    "def split_and_save_wave_data(wave):\n",
    "    # Construct file names\n",
    "    input_file_path = f'wave{wave}.csv'\n",
    "    alive_output_file_path = f'wave{wave}_alive.csv'\n",
    "    dead_output_file_path = f'wave{wave}_dead.csv'\n",
    "    \n",
    "    # Adjust the column name according to the wave, if necessary\n",
    "    death_year_col = f'S{wave}DYEAR'\n",
    "    \n",
    "    # Load the dataset\n",
    "    df = pd.read_csv(input_file_path)\n",
    "    \n",
    "    # Split the dataset into alive and dead\n",
    "    alive_df = df[df[death_year_col].isna()]\n",
    "    dead_df = df.dropna(subset=[death_year_col])\n",
    "    \n",
    "    # Save the split datasets to CSV files\n",
    "    alive_df.to_csv(alive_output_file_path, index=False)\n",
    "    dead_df.to_csv(dead_output_file_path, index=False)\n",
    "    \n",
    "    print(f'Wave {wave}: Alive and dead datasets saved.')\n",
    "\n",
    "# Loop through waves 4 to 15\n",
    "for wave in range(4, 16):\n",
    "    split_and_save_wave_data(wave)\n"
   ]
  }
 ],
 "metadata": {
  "kernelspec": {
   "display_name": "Python 3 (ipykernel)",
   "language": "python",
   "name": "python3"
  },
  "language_info": {
   "codemirror_mode": {
    "name": "ipython",
    "version": 3
   },
   "file_extension": ".py",
   "mimetype": "text/x-python",
   "name": "python",
   "nbconvert_exporter": "python",
   "pygments_lexer": "ipython3",
   "version": "3.9.13"
  }
 },
 "nbformat": 4,
 "nbformat_minor": 5
}

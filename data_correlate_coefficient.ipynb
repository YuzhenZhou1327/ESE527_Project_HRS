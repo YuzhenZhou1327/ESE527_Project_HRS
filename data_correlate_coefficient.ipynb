{
 "cells": [
  {
   "cell_type": "code",
   "execution_count": 1,
   "metadata": {},
   "outputs": [],
   "source": [
    "import pandas as pd\n",
    "import numpy as np\n"
   ]
  },
  {
   "cell_type": "code",
   "execution_count": 3,
   "metadata": {},
   "outputs": [],
   "source": [
    "file_path = 'wave/Wave4.csv'  # Make sure to replace this with the actual path to your CSV file\n",
    "data = pd.read_csv(file_path)"
   ]
  },
  {
   "cell_type": "code",
   "execution_count": 4,
   "metadata": {},
   "outputs": [
    {
     "name": "stdout",
     "output_type": "stream",
     "text": [
      "R4SHLT      1.000000\n",
      "R4MOBILA    0.518557\n",
      "R4HLTHLM    0.510508\n",
      "R4CONDE     0.495440\n",
      "R4WALKSA    0.485073\n",
      "              ...   \n",
      "R4COGTOT   -0.315652\n",
      "R4LIV75    -0.346293\n",
      "R4LIV75R   -0.347982\n",
      "R4SADLF    -0.412387\n",
      "S4DCPCT3   -0.487112\n",
      "Length: 1012, dtype: float64\n"
     ]
    }
   ],
   "source": [
    "\n",
    "# Select only numerical columns for correlation analysis\n",
    "numerical_data = data.select_dtypes(include=[np.number])\n",
    "\n",
    "# Compute the Pearson correlation coefficient between 'R4SHLT' and other numerical columns\n",
    "correlation_with_r4shlt = numerical_data.corrwith(numerical_data['R4SHLT']).dropna()\n",
    "\n",
    "# Sort the correlations\n",
    "sorted_correlations = correlation_with_r4shlt.sort_values(ascending=False)\n",
    "\n",
    "# Display the sorted correlations\n",
    "print(sorted_correlations)"
   ]
  },
  {
   "cell_type": "code",
   "execution_count": 5,
   "metadata": {},
   "outputs": [
    {
     "name": "stdout",
     "output_type": "stream",
     "text": [
      "Correlation coefficients have been saved to correlated_coefficient.txt\n"
     ]
    }
   ],
   "source": [
    "# Specify the output file path\n",
    "output_file_path = 'correlated_coefficient.txt'  # Adjust this to your desired output path\n",
    "\n",
    "# Export the sorted correlations to a text file\n",
    "sorted_correlations.to_csv(output_file_path, sep='\\t', header=True, index=True)\n",
    "\n",
    "print(f\"Correlation coefficients have been saved to {output_file_path}\")"
   ]
  },
  {
   "cell_type": "code",
   "execution_count": null,
   "metadata": {},
   "outputs": [],
   "source": []
  }
 ],
 "metadata": {
  "kernelspec": {
   "display_name": "base",
   "language": "python",
   "name": "python3"
  },
  "language_info": {
   "codemirror_mode": {
    "name": "ipython",
    "version": 3
   },
   "file_extension": ".py",
   "mimetype": "text/x-python",
   "name": "python",
   "nbconvert_exporter": "python",
   "pygments_lexer": "ipython3",
   "version": "3.11.4"
  },
  "orig_nbformat": 4
 },
 "nbformat": 4,
 "nbformat_minor": 2
}

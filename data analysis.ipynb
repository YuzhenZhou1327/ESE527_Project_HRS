{
 "cells": [
  {
   "cell_type": "code",
   "execution_count": 1,
   "metadata": {
    "tags": []
   },
   "outputs": [],
   "source": [
    "import pandas as pd\n",
    "import numpy as np\n",
    "import matplotlib.pyplot as plt\n",
    "\n",
    "from sklearn.model_selection import train_test_split, KFold\n",
    "from sklearn.linear_model import LinearRegression\n",
    "from sklearn.metrics import mean_squared_error,r2_score\n",
    "from sklearn.cluster import KMeans\n",
    "from sklearn.ensemble import IsolationForest, RandomForestRegressor\n",
    "from sklearn.pipeline import Pipeline\n",
    "from sklearn.preprocessing import StandardScaler, OneHotEncoder, PolynomialFeatures\n",
    "from sklearn.compose import make_column_transformer"
   ]
  },
  {
   "cell_type": "code",
   "execution_count": 21,
   "metadata": {},
   "outputs": [],
   "source": [
    "def kf_RandomFroestRegressor(X, y, n_estimators =150 ,k=5):\n",
    "    kf = KFold(n_splits=k, shuffle=True, random_state=42)\n",
    "    train_r_squared = []\n",
    "    test_r_squared = []\n",
    "    train_mse = []\n",
    "    test_mse = []\n",
    "    \n",
    "    for train_index, test_index in kf.split(X):\n",
    "        X_train, X_test = X[train_index], X[test_index]\n",
    "        y_train, y_test = y[train_index], y[test_index]\n",
    "        \n",
    "        model = RandomForestRegressor(n_estimators = n_estimators, n_jobs=-1).fit(X_train, y_train)\n",
    "        \n",
    "        train_pred = model.predict(X_train)\n",
    "        train_r_squared.append(r2_score(y_train, train_pred))\n",
    "        train_mse.append(mean_squared_error(y_train, train_pred))\n",
    "        \n",
    "        test_pred = model.predict(X_test)\n",
    "        test_r_squared.append(r2_score(y_test, test_pred))\n",
    "        test_mse.append(mean_squared_error(y_test, test_pred))\n",
    "        \n",
    "    print(f\"Train: R-squared = {np.mean(train_r_squared)}, MSE = {np.mean(train_mse)}\\nTest: R-squared = {np.mean(test_r_squared)}, MSE = {np.mean(test_mse)}\")\n",
    "    return (np.mean(train_r_squared), np.mean(train_mse), np.mean(test_r_squared), np.mean(test_mse))\n"
   ]
  },
  {
   "cell_type": "code",
   "execution_count": 3,
   "metadata": {},
   "outputs": [
    {
     "name": "stdout",
     "output_type": "stream",
     "text": [
      "Train: R-squared = 0.9568241590327465, MSE = 0.30830550320460487\n",
      "Test: R-squared = 0.7027791905827089, MSE = 2.132358532458506\n"
     ]
    },
    {
     "data": {
      "text/plain": [
       "(0.9568241590327465,\n",
       " 0.30830550320460487,\n",
       " 0.7027791905827089,\n",
       " 2.132358532458506)"
      ]
     },
     "execution_count": 3,
     "metadata": {},
     "output_type": "execute_result"
    }
   ],
   "source": [
    "df = pd.read_csv('cleaned_extracted_data.csv')\n",
    "\n",
    "X = df.drop(['SHLT', 'COGTOT', 'MSTOT','BMI'], axis=1).values\n",
    "y = df[['SHLT', 'COGTOT', 'MSTOT']].values\n",
    "kf_RandomFroestRegressor(X,y)"
   ]
  },
  {
   "cell_type": "markdown",
   "metadata": {},
   "source": [
    "  "
   ]
  },
  {
   "cell_type": "markdown",
   "metadata": {
    "tags": []
   },
   "source": [
    "Run a random forest on raw data"
   ]
  },
  {
   "cell_type": "code",
   "execution_count": 4,
   "metadata": {
    "tags": []
   },
   "outputs": [],
   "source": [
    "\n",
    "# #Separate the input features and target values\n",
    "# X = df.drop(['SHLT', 'COGTOT', 'MSTOT','BMI'], axis=1)  # Input features\n",
    "# y = df[['SHLT', 'COGTOT', 'MSTOT']]  # Target variables\n",
    "# # Split the data into training and testing sets\n",
    "# X_train, X_test, y_train, y_test = train_test_split(X, y, test_size=0.2)\n",
    "\n",
    "# # Initialize a dictionary to store the models and their metrics\n",
    "# models_metrics = {}\n",
    "\n",
    "# # Train separate models for each target variable\n",
    "# for target in y.columns:\n",
    "#     # Train the model\n",
    "#     model = RandomForestRegressor(n_estimators = 200, n_jobs=-1)\n",
    "#     model.fit(X_train, y_train[target])\n",
    "    \n",
    "#     # Predict on the testing set\n",
    "#     y_pred = model.predict(X_test)\n",
    "    \n",
    "#     # Evaluate the model\n",
    "#     r2 = r2_score(y_test[target], y_pred)\n",
    "#     mse = mean_squared_error(y_test[target], y_pred)\n",
    "    \n",
    "#     # Store the model and its metrics\n",
    "#     models_metrics[target] = {'R2 Score': r2, 'MSE': mse}\n",
    "\n",
    "# # Display the models' metrics\n",
    "# for target, metrics in models_metrics.items():\n",
    "#     print(f\"Model for {target}: R2 Score = {metrics['R2 Score']}, MSE = {metrics['MSE']}\")"
   ]
  },
  {
   "cell_type": "code",
   "execution_count": 5,
   "metadata": {
    "tags": []
   },
   "outputs": [],
   "source": [
    "continuous_features = ['BMI', 'INHPFN',  'HHHRES', 'HCHILD','LIVSIB',  'HAIRA', 'HATOTB', 'IEARN','HITOT', 'PRPCNT', 'SLFEMP', 'RETMON']\n",
    "cate_features = ['INHPE','HINPOV', 'HINPOVA','PENINC', 'HIGOV']"
   ]
  },
  {
   "cell_type": "markdown",
   "metadata": {
    "tags": []
   },
   "source": [
    "Use isolation Forest to remove outliers"
   ]
  },
  {
   "cell_type": "code",
   "execution_count": 6,
   "metadata": {
    "tags": []
   },
   "outputs": [
    {
     "name": "stdout",
     "output_type": "stream",
     "text": [
      "(38487, 20)\n",
      "(36563, 20)\n"
     ]
    }
   ],
   "source": [
    "# detect and remove outliers\n",
    "print(df.shape)\n",
    "clf = IsolationForest(random_state=42, contamination= 0.05, n_estimators= 500, n_jobs= -1)\n",
    "outliers = clf.fit_predict(df)\n",
    "cleaned_df = df[outliers == 1]\n",
    "print(cleaned_df.shape)"
   ]
  },
  {
   "cell_type": "markdown",
   "metadata": {},
   "source": [
    "Run the model on dataset with less outliers"
   ]
  },
  {
   "cell_type": "code",
   "execution_count": 7,
   "metadata": {},
   "outputs": [
    {
     "name": "stdout",
     "output_type": "stream",
     "text": [
      "Train: R-squared = 0.9554202667874069, MSE = 0.29801639873079855\n",
      "Test: R-squared = 0.6850458067701425, MSE = 2.0927710965838893\n"
     ]
    },
    {
     "data": {
      "text/plain": [
       "(0.9554202667874069,\n",
       " 0.29801639873079855,\n",
       " 0.6850458067701425,\n",
       " 2.0927710965838893)"
      ]
     },
     "execution_count": 7,
     "metadata": {},
     "output_type": "execute_result"
    }
   ],
   "source": [
    "X = cleaned_df.drop(['SHLT', 'COGTOT', 'MSTOT','BMI'], axis=1).values\n",
    "y = cleaned_df[['SHLT', 'COGTOT', 'MSTOT']].values\n",
    "kf_RandomFroestRegressor(X,y)"
   ]
  },
  {
   "cell_type": "code",
   "execution_count": 8,
   "metadata": {
    "tags": []
   },
   "outputs": [],
   "source": [
    "# X = cleaned_df.drop(['SHLT', 'COGTOT', 'MSTOT','BMI'], axis=1)  # Input features\n",
    "# y = cleaned_df[['SHLT', 'COGTOT', 'MSTOT']]  # Target variables\n",
    "# # Split the data into training and testing sets\n",
    "# X_train, X_test, y_train, y_test = train_test_split(X, y, test_size=0.2)\n",
    "\n",
    "# # Initialize a dictionary to store the models and their metrics\n",
    "# models_metrics = {}\n",
    "\n",
    "# # Train separate models for each target variable\n",
    "# for target in y.columns:\n",
    "#     # Train the model\n",
    "#     model = RandomForestRegressor(n_estimators = 100, n_jobs=-1)\n",
    "#     model.fit(X_train, y_train[target])\n",
    "    \n",
    "#     # Predict on the testing set\n",
    "#     y_pred = model.predict(X_test)\n",
    "    \n",
    "#     # Evaluate the model\n",
    "#     r2 = r2_score(y_test[target], y_pred)\n",
    "#     mse = mean_squared_error(y_test[target], y_pred)\n",
    "    \n",
    "#     # Store the model and its metrics\n",
    "#     models_metrics[target] = {'R2 Score': r2, 'MSE': mse}\n",
    "\n",
    "# # Display the models' metrics\n",
    "# for target, metrics in models_metrics.items():\n",
    "#     print(f\"Model for {target}: R2 Score = {metrics['R2 Score']}, MSE = {metrics['MSE']}\")"
   ]
  },
  {
   "cell_type": "markdown",
   "metadata": {},
   "source": [
    "Run the data on normalized and encoded data or data with polynomial feature"
   ]
  },
  {
   "cell_type": "code",
   "execution_count": 18,
   "metadata": {
    "tags": []
   },
   "outputs": [],
   "source": [
    "# transfer data\n",
    "trans = make_column_transformer((StandardScaler(), continuous_features),\n",
    "                                remainder=\"passthrough\")\n",
    "\n",
    "df2 = pd.DataFrame( trans.fit_transform( df ) , columns=trans.get_feature_names_out( ) )\n",
    "df2.columns\n",
    "target_columns = ['remainder__SHLT', 'remainder__MSTOT','remainder__COGTOT']"
   ]
  },
  {
   "cell_type": "code",
   "execution_count": 22,
   "metadata": {},
   "outputs": [
    {
     "name": "stdout",
     "output_type": "stream",
     "text": [
      "Train: R-squared = 0.9608627852177316, MSE = 0.28216372024156233\n",
      "Test: R-squared = 0.7160203960296545, MSE = 2.0584321537889716\n"
     ]
    },
    {
     "data": {
      "text/plain": [
       "(0.9608627852177316,\n",
       " 0.28216372024156233,\n",
       " 0.7160203960296545,\n",
       " 2.0584321537889716)"
      ]
     },
     "execution_count": 22,
     "metadata": {},
     "output_type": "execute_result"
    }
   ],
   "source": [
    "X = df2.drop(target_columns, axis=1).values\n",
    "y = df2[target_columns].values\n",
    "kf_RandomFroestRegressor(X,y, n_estimators=1000)"
   ]
  },
  {
   "cell_type": "code",
   "execution_count": 15,
   "metadata": {
    "tags": []
   },
   "outputs": [
    {
     "name": "stdout",
     "output_type": "stream",
     "text": [
      "R2 Score: 0.7045574957808984 MSE: 0.283838751768136\n",
      "R2 Score: 0.7120359573402713 MSE: 1.030715724141913\n",
      "R2 Score: 0.7047157638645751 MSE: 5.107293813688981\n"
     ]
    }
   ],
   "source": [
    "# target_columns = ['remainder__SHLT', 'remainder__MSTOT','remainder__COGTOT']\n",
    "# X = df2.drop(target_columns, axis=1)  # Input features\n",
    "# y = df2[target_columns]  # Target variables\n",
    "# X_train, X_test, y_train, y_test = train_test_split(X, y, test_size=0.2, random_state=42)\n",
    "\n",
    "# for target in target_columns:\n",
    "#     model = RandomForestRegressor(n_estimators = 150, n_jobs=-1)\n",
    "#     model.fit(X_train, y_train[target])\n",
    "\n",
    "#         # Predict on the testing set\n",
    "#     y_pred = model.predict(X_test)\n",
    "\n",
    "#         # Evaluate the model\n",
    "#     r2 = r2_score(y_test[target], y_pred)\n",
    "#     mse = mean_squared_error(y_test[target], y_pred)\n",
    "\n",
    "#         # Store the model and its metrics\n",
    "#     print(f\"R2 Score: {r2} MSE: {mse}\")"
   ]
  }
 ],
 "metadata": {
  "kernelspec": {
   "display_name": "Python 3 (ipykernel)",
   "language": "python",
   "name": "python3"
  },
  "language_info": {
   "codemirror_mode": {
    "name": "ipython",
    "version": 3
   },
   "file_extension": ".py",
   "mimetype": "text/x-python",
   "name": "python",
   "nbconvert_exporter": "python",
   "pygments_lexer": "ipython3",
   "version": "3.9.13"
  }
 },
 "nbformat": 4,
 "nbformat_minor": 4
}
